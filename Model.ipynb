{
 "cells": [
  {
   "cell_type": "markdown",
   "id": "bf1e95e9",
   "metadata": {},
   "source": [
    "## **CreditRiskClassification Model**\n"
   ]
  },
  {
   "cell_type": "markdown",
   "id": "42a22512",
   "metadata": {},
   "source": [
    "### Problem Defination:\n"
   ]
  },
  {
   "cell_type": "code",
   "execution_count": 6,
   "id": "892d3884",
   "metadata": {},
   "outputs": [],
   "source": [
    "# Import Data Manipulation Library\n",
    "import numpy as np \n",
    "import pandas as pd \n",
    "# Import Data Visulization Library\n",
    "import seaborn as sns\n",
    "import matplotlib.pyplot as plt \n",
    "# Import FilterWarnings Library\n",
    "import warnings \n",
    "warnings.filterwarnings('ignore')\n",
    "#Import Logging \n",
    "import logging \n",
    "logging.basicConfig(level = logging.INFO,\n",
    "                    filename = 'model.log',\n",
    "                    filemode= 'w',\n",
    "                    format= '%(asctime)s - %(levelname)s - %(message)s')\n",
    "# Import Scikit- Learn Libaries \n",
    "from sklearn.preprocessing import MinMaxScaler,RobustScaler\n",
    "from sklearn.model_selection import train_test_split\n",
    "from sklearn.metrics import accuracy_score,classification_report , confusion_matrix"
   ]
  },
  {
   "cell_type": "markdown",
   "id": "3f6f5d46",
   "metadata": {},
   "source": []
  }
 ],
 "metadata": {
  "kernelspec": {
   "display_name": "env",
   "language": "python",
   "name": "python3"
  },
  "language_info": {
   "codemirror_mode": {
    "name": "ipython",
    "version": 3
   },
   "file_extension": ".py",
   "mimetype": "text/x-python",
   "name": "python",
   "nbconvert_exporter": "python",
   "pygments_lexer": "ipython3",
   "version": "3.12.7"
  }
 },
 "nbformat": 4,
 "nbformat_minor": 5
}
